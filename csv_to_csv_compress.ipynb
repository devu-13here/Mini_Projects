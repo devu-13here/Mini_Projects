{
  "nbformat": 4,
  "nbformat_minor": 0,
  "metadata": {
    "colab": {
      "provenance": [],
      "authorship_tag": "ABX9TyOYXLSdJ29La+9z+UYCy6Od",
      "include_colab_link": true
    },
    "kernelspec": {
      "name": "python3",
      "display_name": "Python 3"
    },
    "language_info": {
      "name": "python"
    }
  },
  "cells": [
    {
      "cell_type": "markdown",
      "metadata": {
        "id": "view-in-github",
        "colab_type": "text"
      },
      "source": [
        "<a href=\"https://colab.research.google.com/github/devu-13here/Mini_Projects/blob/main/csv_to_csv_compress.ipynb\" target=\"_parent\"><img src=\"https://colab.research.google.com/assets/colab-badge.svg\" alt=\"Open In Colab\"/></a>"
      ]
    },
    {
      "cell_type": "code",
      "execution_count": 2,
      "metadata": {
        "colab": {
          "base_uri": "https://localhost:8080/"
        },
        "id": "R3KWBCly7Qdd",
        "outputId": "690d714d-bdbe-4735-dfc4-9212dffb3491"
      },
      "outputs": [
        {
          "output_type": "stream",
          "name": "stdout",
          "text": [
            "Original file size: 508.73 MB\n",
            "Reduced file size: 9.63 MB\n",
            "Smaller CSV file created successfully: reduced_file.csv\n"
          ]
        }
      ],
      "source": [
        "import pandas as pd\n",
        "import os\n",
        "\n",
        "# Input and output file paths\n",
        "input_csv_file = '/content/ratings.csv'\n",
        "output_csv_file = 'reduced_file.csv'\n",
        "\n",
        "# Load the large CSV file\n",
        "df = pd.read_csv(input_csv_file)\n",
        "\n",
        "# Step 1: Calculate the size of the file\n",
        "initial_size = os.path.getsize(input_csv_file) / (1024 * 1024)  # Convert bytes to MB\n",
        "target_size = 10  # Target size in MB\n",
        "\n",
        "# Step 2: Determine the fraction of rows to keep to reach 10 MB\n",
        "fraction_to_keep = target_size / initial_size\n",
        "\n",
        "# Ensure the fraction doesn't exceed 1\n",
        "fraction_to_keep = min(1, fraction_to_keep)\n",
        "\n",
        "# Step 3: Sample a fraction of the data based on the required size\n",
        "df_sampled = df.sample(frac=fraction_to_keep, random_state=1)\n",
        "\n",
        "# Step 4: Save the reduced CSV file\n",
        "df_sampled.to_csv(output_csv_file, index=False)\n",
        "\n",
        "# Step 5: Output file size for confirmation\n",
        "final_size = os.path.getsize(output_csv_file) / (1024 * 1024)  # Convert bytes to MB\n",
        "\n",
        "print(f\"Original file size: {initial_size:.2f} MB\")\n",
        "print(f\"Reduced file size: {final_size:.2f} MB\")\n",
        "print(f\"Smaller CSV file created successfully: {output_csv_file}\")\n"
      ]
    }
  ]
}