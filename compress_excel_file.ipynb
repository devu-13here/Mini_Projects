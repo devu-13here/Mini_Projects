{
  "nbformat": 4,
  "nbformat_minor": 0,
  "metadata": {
    "colab": {
      "provenance": [],
      "authorship_tag": "ABX9TyNTgIHpMgg2mF1d139Mp5WW",
      "include_colab_link": true
    },
    "kernelspec": {
      "name": "python3",
      "display_name": "Python 3"
    },
    "language_info": {
      "name": "python"
    }
  },
  "cells": [
    {
      "cell_type": "markdown",
      "metadata": {
        "id": "view-in-github",
        "colab_type": "text"
      },
      "source": [
        "<a href=\"https://colab.research.google.com/github/devu-13here/Mini_Projects/blob/main/compress_excel_file.ipynb\" target=\"_parent\"><img src=\"https://colab.research.google.com/assets/colab-badge.svg\" alt=\"Open In Colab\"/></a>"
      ]
    },
    {
      "cell_type": "code",
      "execution_count": 2,
      "metadata": {
        "id": "Dy7bwbtM4iqm",
        "colab": {
          "base_uri": "https://localhost:8080/"
        },
        "outputId": "e64b254d-fd74-4ad6-88da-529f732f58aa"
      },
      "outputs": [
        {
          "output_type": "stream",
          "name": "stdout",
          "text": [
            "File compressed successfully: final\n"
          ]
        }
      ],
      "source": [
        "import gzip\n",
        "import shutil\n",
        "\n",
        "# Define input and output file paths\n",
        "input_file = '/content/ratings.csv'\n",
        "output_file = 'final'\n",
        "\n",
        "# Compress the file using gzip\n",
        "with open(input_file, 'rb') as f_in:\n",
        "    with gzip.open(output_file, 'wb') as f_out:\n",
        "        shutil.copyfileobj(f_in, f_out)\n",
        "\n",
        "print(f\"File compressed successfully: {output_file}\")\n"
      ]
    }
  ]
}